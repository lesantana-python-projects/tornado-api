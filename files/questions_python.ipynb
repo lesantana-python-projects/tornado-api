{
  "nbformat": 4,
  "nbformat_minor": 0,
  "metadata": {
    "kernelspec": {
      "display_name": "Python(3)",
      "language": "python",
      "name": "python3"
    },
    "language_info": {
      "codemirror_mode": {
        "name": "ipython",
        "version": 2
      },
      "file_extension": ".py",
      "mimetype": "text/x-python",
      "name": "python",
      "nbconvert_exporter": "python",
      "pygments_lexer": "ipython2",
      "version": "2.7.12"
    },
    "colab": {
      "name": "questions_python.ipynb",
      "provenance": [],
      "collapsed_sections": []
    }
  },
  "cells": [
    {
      "cell_type": "markdown",
      "metadata": {
        "id": "bb4JjyJ7216p"
      },
      "source": [
        "# Question 0"
      ]
    },
    {
      "cell_type": "code",
      "metadata": {
        "id": "VueTkB1P4r5K"
      },
      "source": [
        "# execute to upload file in google colab\n",
        "\n",
        "from google.colab import files\n",
        "files.upload()"
      ],
      "execution_count": null,
      "outputs": []
    },
    {
      "cell_type": "code",
      "metadata": {
        "id": "XoXd6znF34Wk"
      },
      "source": [
        "import pandas as pd"
      ],
      "execution_count": 2,
      "outputs": []
    },
    {
      "cell_type": "markdown",
      "metadata": {
        "id": "OmyK294P216r"
      },
      "source": [
        "Using python, try to clean/aggregate the data inside of grid_weather_data.csv in order to avoid NaN."
      ]
    },
    {
      "cell_type": "code",
      "metadata": {
        "id": "nq15E1xu216s",
        "outputId": "7d08c0dd-3bdd-411a-af5b-5d4cd9f7d911",
        "colab": {
          "base_uri": "https://localhost:8080/",
          "height": 549
        }
      },
      "source": [
        "#code\n",
        "# clean all data in Nan to nothing list first 10 to example.\n",
        "df = pd.read_csv('grid_weather_data.csv', sep=',', index_col=None, usecols=['id', 'date', 'hour', 'precipitation', 'dry_bulb_temperature', 'wet_bulb_temperature',\n",
        "                               'high_temperature', 'low_temperature', 'relative_humidity', 'relative_humidity_avg',\n",
        "                               'pressure', 'sea_pressure', 'wind_direction', 'wind_speed_avg', 'cloud_cover',\n",
        "                               'evaporation']);\n",
        "df.rename(columns={'id': 'weather_id'}, inplace=True)\n",
        "df = df.astype(object).where(pd.notnull(df), '')\n",
        "df.head(10)\n"
      ],
      "execution_count": 26,
      "outputs": [
        {
          "output_type": "execute_result",
          "data": {
            "text/html": [
              "<div>\n",
              "<style scoped>\n",
              "    .dataframe tbody tr th:only-of-type {\n",
              "        vertical-align: middle;\n",
              "    }\n",
              "\n",
              "    .dataframe tbody tr th {\n",
              "        vertical-align: top;\n",
              "    }\n",
              "\n",
              "    .dataframe thead th {\n",
              "        text-align: right;\n",
              "    }\n",
              "</style>\n",
              "<table border=\"1\" class=\"dataframe\">\n",
              "  <thead>\n",
              "    <tr style=\"text-align: right;\">\n",
              "      <th></th>\n",
              "      <th>weather_id</th>\n",
              "      <th>date</th>\n",
              "      <th>hour</th>\n",
              "      <th>precipitation</th>\n",
              "      <th>dry_bulb_temperature</th>\n",
              "      <th>wet_bulb_temperature</th>\n",
              "      <th>high_temperature</th>\n",
              "      <th>low_temperature</th>\n",
              "      <th>relative_humidity</th>\n",
              "      <th>relative_humidity_avg</th>\n",
              "      <th>pressure</th>\n",
              "      <th>sea_pressure</th>\n",
              "      <th>wind_direction</th>\n",
              "      <th>wind_speed_avg</th>\n",
              "      <th>cloud_cover</th>\n",
              "      <th>evaporation</th>\n",
              "    </tr>\n",
              "  </thead>\n",
              "  <tbody>\n",
              "    <tr>\n",
              "      <th>0</th>\n",
              "      <td>59999</td>\n",
              "      <td>1976-09-01</td>\n",
              "      <td>0</td>\n",
              "      <td></td>\n",
              "      <td></td>\n",
              "      <td></td>\n",
              "      <td>34.1</td>\n",
              "      <td></td>\n",
              "      <td></td>\n",
              "      <td>23.12</td>\n",
              "      <td></td>\n",
              "      <td></td>\n",
              "      <td></td>\n",
              "      <td>52</td>\n",
              "      <td>10</td>\n",
              "      <td></td>\n",
              "    </tr>\n",
              "    <tr>\n",
              "      <th>1</th>\n",
              "      <td>59999</td>\n",
              "      <td>1976-09-01</td>\n",
              "      <td>12</td>\n",
              "      <td></td>\n",
              "      <td>26.9</td>\n",
              "      <td>19.1</td>\n",
              "      <td></td>\n",
              "      <td>14.4</td>\n",
              "      <td>48</td>\n",
              "      <td></td>\n",
              "      <td>982.5</td>\n",
              "      <td></td>\n",
              "      <td>14</td>\n",
              "      <td></td>\n",
              "      <td></td>\n",
              "      <td>1</td>\n",
              "    </tr>\n",
              "    <tr>\n",
              "      <th>2</th>\n",
              "      <td>59999</td>\n",
              "      <td>1976-09-01</td>\n",
              "      <td>18</td>\n",
              "      <td></td>\n",
              "      <td>33.7</td>\n",
              "      <td>20</td>\n",
              "      <td></td>\n",
              "      <td></td>\n",
              "      <td>28</td>\n",
              "      <td></td>\n",
              "      <td>977</td>\n",
              "      <td></td>\n",
              "      <td>14</td>\n",
              "      <td></td>\n",
              "      <td></td>\n",
              "      <td>8</td>\n",
              "    </tr>\n",
              "    <tr>\n",
              "      <th>3</th>\n",
              "      <td>59999</td>\n",
              "      <td>1976-09-02</td>\n",
              "      <td>0</td>\n",
              "      <td></td>\n",
              "      <td>20.1</td>\n",
              "      <td>16</td>\n",
              "      <td>34.6</td>\n",
              "      <td></td>\n",
              "      <td>66</td>\n",
              "      <td>20.5</td>\n",
              "      <td>978.4</td>\n",
              "      <td></td>\n",
              "      <td>18</td>\n",
              "      <td>49</td>\n",
              "      <td>11.2</td>\n",
              "      <td>1</td>\n",
              "    </tr>\n",
              "    <tr>\n",
              "      <th>4</th>\n",
              "      <td>59999</td>\n",
              "      <td>1976-09-02</td>\n",
              "      <td>12</td>\n",
              "      <td>0</td>\n",
              "      <td>27.1</td>\n",
              "      <td>18.3</td>\n",
              "      <td></td>\n",
              "      <td></td>\n",
              "      <td>42</td>\n",
              "      <td></td>\n",
              "      <td>982.1</td>\n",
              "      <td></td>\n",
              "      <td>14</td>\n",
              "      <td></td>\n",
              "      <td></td>\n",
              "      <td>0</td>\n",
              "    </tr>\n",
              "    <tr>\n",
              "      <th>5</th>\n",
              "      <td>59999</td>\n",
              "      <td>1976-09-02</td>\n",
              "      <td>18</td>\n",
              "      <td></td>\n",
              "      <td>34.5</td>\n",
              "      <td>19.8</td>\n",
              "      <td></td>\n",
              "      <td></td>\n",
              "      <td>24</td>\n",
              "      <td></td>\n",
              "      <td>976.5</td>\n",
              "      <td></td>\n",
              "      <td>9</td>\n",
              "      <td></td>\n",
              "      <td></td>\n",
              "      <td>3</td>\n",
              "    </tr>\n",
              "    <tr>\n",
              "      <th>6</th>\n",
              "      <td>59999</td>\n",
              "      <td>1976-09-03</td>\n",
              "      <td>0</td>\n",
              "      <td></td>\n",
              "      <td>20.5</td>\n",
              "      <td>16.3</td>\n",
              "      <td>35.8</td>\n",
              "      <td></td>\n",
              "      <td>65</td>\n",
              "      <td>24.06</td>\n",
              "      <td>978.4</td>\n",
              "      <td></td>\n",
              "      <td>0</td>\n",
              "      <td>47.25</td>\n",
              "      <td>10.7</td>\n",
              "      <td>0</td>\n",
              "    </tr>\n",
              "    <tr>\n",
              "      <th>7</th>\n",
              "      <td>59999</td>\n",
              "      <td>1976-09-03</td>\n",
              "      <td>12</td>\n",
              "      <td>0</td>\n",
              "      <td>27.7</td>\n",
              "      <td>19.2</td>\n",
              "      <td></td>\n",
              "      <td>14</td>\n",
              "      <td>45</td>\n",
              "      <td></td>\n",
              "      <td>981.4</td>\n",
              "      <td></td>\n",
              "      <td>14</td>\n",
              "      <td></td>\n",
              "      <td></td>\n",
              "      <td>1</td>\n",
              "    </tr>\n",
              "    <tr>\n",
              "      <th>8</th>\n",
              "      <td>59999</td>\n",
              "      <td>1976-09-03</td>\n",
              "      <td>18</td>\n",
              "      <td></td>\n",
              "      <td>35.5</td>\n",
              "      <td>19.2</td>\n",
              "      <td></td>\n",
              "      <td></td>\n",
              "      <td>20</td>\n",
              "      <td></td>\n",
              "      <td>975.4</td>\n",
              "      <td></td>\n",
              "      <td>18</td>\n",
              "      <td></td>\n",
              "      <td></td>\n",
              "      <td>6</td>\n",
              "    </tr>\n",
              "    <tr>\n",
              "      <th>9</th>\n",
              "      <td>59999</td>\n",
              "      <td>1976-09-04</td>\n",
              "      <td>0</td>\n",
              "      <td></td>\n",
              "      <td>21.4</td>\n",
              "      <td>16.7</td>\n",
              "      <td>34.5</td>\n",
              "      <td></td>\n",
              "      <td>62</td>\n",
              "      <td>24.36</td>\n",
              "      <td>976.9</td>\n",
              "      <td></td>\n",
              "      <td>23</td>\n",
              "      <td>49</td>\n",
              "      <td>10.6</td>\n",
              "      <td>0</td>\n",
              "    </tr>\n",
              "  </tbody>\n",
              "</table>\n",
              "</div>"
            ],
            "text/plain": [
              "  weather_id        date hour  ... wind_speed_avg cloud_cover evaporation\n",
              "0      59999  1976-09-01    0  ...             52          10            \n",
              "1      59999  1976-09-01   12  ...                                      1\n",
              "2      59999  1976-09-01   18  ...                                      8\n",
              "3      59999  1976-09-02    0  ...             49        11.2           1\n",
              "4      59999  1976-09-02   12  ...                                      0\n",
              "5      59999  1976-09-02   18  ...                                      3\n",
              "6      59999  1976-09-03    0  ...          47.25        10.7           0\n",
              "7      59999  1976-09-03   12  ...                                      1\n",
              "8      59999  1976-09-03   18  ...                                      6\n",
              "9      59999  1976-09-04    0  ...             49        10.6           0\n",
              "\n",
              "[10 rows x 16 columns]"
            ]
          },
          "metadata": {
            "tags": []
          },
          "execution_count": 26
        }
      ]
    },
    {
      "cell_type": "markdown",
      "metadata": {
        "id": "A4blqQK1216x"
      },
      "source": [
        "<hr>"
      ]
    },
    {
      "cell_type": "markdown",
      "metadata": {
        "id": "c_VCH4bp216y"
      },
      "source": [
        "# Question 1"
      ]
    },
    {
      "cell_type": "markdown",
      "metadata": {
        "id": "jJmByvIr216z"
      },
      "source": [
        "Create a restAPIs (using python tornado) in order to provide the weather date inside of grid_weather.csv and grid_weather_data.csv. Create and use any kind of database to make a CRUD (python tornado) to use it later."
      ]
    },
    {
      "cell_type": "code",
      "metadata": {
        "id": "8sfv8RL42160"
      },
      "source": [
        "# commands in order to start and run both restAPIs.\n",
        "\n",
        "# Follow instructions in README.md in https://github.com/lesantana09/tornado-api shared with mateusn"
      ],
      "execution_count": null,
      "outputs": []
    },
    {
      "cell_type": "markdown",
      "metadata": {
        "id": "a7vNQzV-2166"
      },
      "source": [
        "<hr>"
      ]
    },
    {
      "cell_type": "markdown",
      "metadata": {
        "id": "ipUAgg9e2166"
      },
      "source": [
        "# Question 2"
      ]
    },
    {
      "cell_type": "markdown",
      "metadata": {
        "id": "Vz3DR-Kh2167"
      },
      "source": [
        "Create time-series plots using python with the same data of previous question."
      ]
    },
    {
      "cell_type": "code",
      "metadata": {
        "id": "yzIONd-Q2168",
        "outputId": "f06bd478-a8b4-440b-acf3-fd4031381acd",
        "colab": {
          "base_uri": "https://localhost:8080/",
          "height": 433
        }
      },
      "source": [
        "#code\n",
        "import matplotlib.pyplot as plt\n",
        "\n",
        "data = pd.read_csv('grid_weather_data.csv', index_col= None, usecols=['date','id'], parse_dates=['date'])\n",
        "grouped = data[['id', 'date']].groupby([data['date'], data['id']]).count()\n",
        "fig, ax = plt.subplots(figsize=(15,7))\n",
        "grouped['date'].unstack().plot(ax=ax)\n"
      ],
      "execution_count": 47,
      "outputs": [
        {
          "output_type": "execute_result",
          "data": {
            "text/plain": [
              "<matplotlib.axes._subplots.AxesSubplot at 0x7efe916217b8>"
            ]
          },
          "metadata": {
            "tags": []
          },
          "execution_count": 47
        },
        {
          "output_type": "display_data",
          "data": {
            "image/png": "[encoded data removed]",
            "text/plain": [
              "<Figure size 1080x504 with 1 Axes>"
            ]
          },
          "metadata": {
            "tags": [],
            "needs_background": "light"
          }
        }
      ]
    },
    {
      "cell_type": "markdown",
      "metadata": {
        "id": "jc9hU90J216-"
      },
      "source": [
        "<hr>"
      ]
    },
    {
      "cell_type": "markdown",
      "metadata": {
        "id": "kEPKX0J3216_"
      },
      "source": [
        "# Question 3"
      ]
    },
    {
      "cell_type": "markdown",
      "metadata": {
        "id": "i-IIXc9c216_"
      },
      "source": [
        "Create tests in restAPI, it must validate the content and structure (suggestion: pytest)."
      ]
    },
    {
      "cell_type": "code",
      "metadata": {
        "id": "lB0nLFCI217A"
      },
      "source": [
        "# code\n",
        "\n",
        "# in code project in https://github.com/lesantana09/tornado-api shared with mateusn execute commands in README.md. There have a instruction equal bellow.\n",
        "\n",
        "# docker exec gaivotaApi python -m pipenv run make tests"
      ],
      "execution_count": 49,
      "outputs": []
    },
    {
      "cell_type": "markdown",
      "metadata": {
        "id": "KRyhlMFL217C"
      },
      "source": [
        "<hr>"
      ]
    },
    {
      "cell_type": "markdown",
      "metadata": {
        "id": "FtN_T7Ld217D"
      },
      "source": [
        "# Question 4"
      ]
    },
    {
      "cell_type": "markdown",
      "metadata": {
        "id": "XcQl1Bki217D"
      },
      "source": [
        "Apply a smooth-method in the weather time-series, using question 1. Plot the content using any plot package."
      ]
    },
    {
      "cell_type": "code",
      "metadata": {
        "id": "I3-pmMoU217E"
      },
      "source": [
        "# commands in order to run the project "
      ],
      "execution_count": null,
      "outputs": []
    },
    {
      "cell_type": "markdown",
      "metadata": {
        "id": "f10OsTiI217G"
      },
      "source": [
        "<hr>"
      ]
    },
    {
      "cell_type": "markdown",
      "metadata": {
        "id": "3D0QbXXm217H"
      },
      "source": [
        "# Question 5"
      ]
    },
    {
      "cell_type": "markdown",
      "metadata": {
        "id": "ID-MWPLd217H"
      },
      "source": [
        "Make a python script in order to make many requests in parallel in the restAPI that you've created in question 1."
      ]
    },
    {
      "cell_type": "code",
      "metadata": {
        "id": "JlPTGBR4217I"
      },
      "source": [
        "# commands in order to run the project.\n",
        "\n",
        "from multiprocessing import Pool, cpu_count\n",
        "import requests # necessary_install pip install requests\n",
        "\n",
        "\n",
        "def simple_request(id_=1):\n",
        "    url = 'http://localhost:8081/api/v1/weather-data/{}'.format(id_)\n",
        "    response = requests.get(url)\n",
        "    print(response.text)\n",
        "\n",
        "\n",
        "if __name__ == '__main__':\n",
        "    range_ = range(1, 20000)\n",
        "\n",
        "    agents = cpu_count()\n",
        "    chunk_size_ = int(agents / 2)\n",
        "    pool = Pool(processes=agents)\n",
        "    pool.map(simple_request, range_, chunk_size_)\n"
      ],
      "execution_count": null,
      "outputs": []
    },
    {
      "cell_type": "markdown",
      "metadata": {
        "id": "obirIZBh217J"
      },
      "source": [
        "<hr>"
      ]
    },
    {
      "cell_type": "markdown",
      "metadata": {
        "id": "34DZhgR-217K"
      },
      "source": [
        "# Question 6 - bonus"
      ]
    },
    {
      "cell_type": "markdown",
      "metadata": {
        "id": "vCCKzxrA217K"
      },
      "source": [
        "Using the weekly shape of the weather time series, show how it is possible to aggregate them using any kind of model. Make some statistical analysis of results."
      ]
    },
    {
      "cell_type": "code",
      "metadata": {
        "id": "bu9Zw8Fz217L"
      },
      "source": [
        "# commands in order to run the project."
      ],
      "execution_count": null,
      "outputs": []
    },
    {
      "cell_type": "markdown",
      "metadata": {
        "id": "KW79Sn7t217N"
      },
      "source": [
        "<hr>"
      ]
    }
  ]
}